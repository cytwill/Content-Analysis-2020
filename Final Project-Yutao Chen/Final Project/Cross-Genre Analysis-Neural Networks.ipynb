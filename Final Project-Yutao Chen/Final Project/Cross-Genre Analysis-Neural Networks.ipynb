{
 "cells": [
  {
   "cell_type": "code",
   "execution_count": 1,
   "metadata": {},
   "outputs": [],
   "source": [
    "import lucem_illud_2020 #pip install -U git+git://github.com/Computational-Content-Analysis-2020/lucem_illud_2020.git\n",
    "\n",
    "#All these packages need to be installed from pip\n",
    "#For ML\n",
    "import sklearn\n",
    "import sklearn.naive_bayes\n",
    "import sklearn.tree\n",
    "import sklearn.ensemble\n",
    "import sklearn.neural_network\n",
    "import sklearn.decomposition\n",
    "\n",
    "import nltk #For tokenizing and normalizing\n",
    "import numpy as np #arrays\n",
    "import matplotlib.pyplot as plt #Plots\n",
    "import matplotlib.colors # For nice colours\n",
    "import seaborn #Makes plots look nice, also heatmaps\n",
    "import scipy as sp #for interp\n",
    "\n",
    "#These are from the standard library\n",
    "import collections\n",
    "import os\n",
    "import os.path\n",
    "import random\n",
    "import re\n",
    "import glob\n",
    "import pandas as pd\n",
    "import requests\n",
    "import json\n",
    "import math\n",
    "\n",
    "#This 'magic' command makes the plots work better\n",
    "#in the notebook, don't use it outside of a notebook.\n",
    "#Also you can ignore the warning\n",
    "%matplotlib inline"
   ]
  },
  {
   "cell_type": "markdown",
   "metadata": {},
   "source": [
    "## Lyrics-Based Music Genre/Artist Classification"
   ]
  },
  {
   "cell_type": "markdown",
   "metadata": {},
   "source": [
    "## Scenario 4"
   ]
  },
  {
   "cell_type": "code",
   "execution_count": 2,
   "metadata": {
    "scrolled": true
   },
   "outputs": [
    {
     "data": {
      "text/html": [
       "<div>\n",
       "<style scoped>\n",
       "    .dataframe tbody tr th:only-of-type {\n",
       "        vertical-align: middle;\n",
       "    }\n",
       "\n",
       "    .dataframe tbody tr th {\n",
       "        vertical-align: top;\n",
       "    }\n",
       "\n",
       "    .dataframe thead th {\n",
       "        text-align: right;\n",
       "    }\n",
       "</style>\n",
       "<table border=\"1\" class=\"dataframe\">\n",
       "  <thead>\n",
       "    <tr style=\"text-align: right;\">\n",
       "      <th></th>\n",
       "      <th>year</th>\n",
       "      <th>artist</th>\n",
       "      <th>genre</th>\n",
       "      <th>lyrics</th>\n",
       "      <th>normalized</th>\n",
       "    </tr>\n",
       "  </thead>\n",
       "  <tbody>\n",
       "    <tr>\n",
       "      <th>0</th>\n",
       "      <td>2009</td>\n",
       "      <td>beyonce-knowles</td>\n",
       "      <td>Pop</td>\n",
       "      <td>oh baby, how you doing? you know i'm gonna cut...</td>\n",
       "      <td>['oh', 'baby', 'know', 'be', 'gon', 'na', 'cut...</td>\n",
       "    </tr>\n",
       "    <tr>\n",
       "      <th>1</th>\n",
       "      <td>2009</td>\n",
       "      <td>beyonce-knowles</td>\n",
       "      <td>Pop</td>\n",
       "      <td>playin' everything so easy, it's like you seem...</td>\n",
       "      <td>['playin', 'easy', 'like', 'sure', 'way', 'not...</td>\n",
       "    </tr>\n",
       "    <tr>\n",
       "      <th>2</th>\n",
       "      <td>2009</td>\n",
       "      <td>beyonce-knowles</td>\n",
       "      <td>Pop</td>\n",
       "      <td>if you search for tenderness it isn't hard to ...</td>\n",
       "      <td>['search', 'tenderness', 'hard', 'find', 'love...</td>\n",
       "    </tr>\n",
       "    <tr>\n",
       "      <th>3</th>\n",
       "      <td>2009</td>\n",
       "      <td>beyonce-knowles</td>\n",
       "      <td>Pop</td>\n",
       "      <td>oh oh oh i, oh oh oh i   if i wrote a book abo...</td>\n",
       "      <td>['oh', 'oh', 'oh', 'oh', 'oh', 'oh', 'write', ...</td>\n",
       "    </tr>\n",
       "    <tr>\n",
       "      <th>4</th>\n",
       "      <td>2009</td>\n",
       "      <td>beyonce-knowles</td>\n",
       "      <td>Pop</td>\n",
       "      <td>party the people, the people the party it's po...</td>\n",
       "      <td>['party', 'people', 'people', 'party', 'pop', ...</td>\n",
       "    </tr>\n",
       "    <tr>\n",
       "      <th>...</th>\n",
       "      <td>...</td>\n",
       "      <td>...</td>\n",
       "      <td>...</td>\n",
       "      <td>...</td>\n",
       "      <td>...</td>\n",
       "    </tr>\n",
       "    <tr>\n",
       "      <th>210637</th>\n",
       "      <td>2012</td>\n",
       "      <td>edens-edge</td>\n",
       "      <td>Country</td>\n",
       "      <td>i gotta say boy, after only just a couple of d...</td>\n",
       "      <td>['get', 'ta', 'boy', 'couple', 'date', 'hand',...</td>\n",
       "    </tr>\n",
       "    <tr>\n",
       "      <th>210638</th>\n",
       "      <td>2012</td>\n",
       "      <td>edens-edge</td>\n",
       "      <td>Country</td>\n",
       "      <td>i helped you find her diamond ring you made me...</td>\n",
       "      <td>['help', 'find', 'diamond', 'ring', 'try', 'to...</td>\n",
       "    </tr>\n",
       "    <tr>\n",
       "      <th>210639</th>\n",
       "      <td>2012</td>\n",
       "      <td>edens-edge</td>\n",
       "      <td>Country</td>\n",
       "      <td>look at the couple in the corner booth looks a...</td>\n",
       "      <td>['look', 'couple', 'corner', 'booth', 'look', ...</td>\n",
       "    </tr>\n",
       "    <tr>\n",
       "      <th>210640</th>\n",
       "      <td>2012</td>\n",
       "      <td>edens-edge</td>\n",
       "      <td>Country</td>\n",
       "      <td>when i fly off this mortal earth and i'm measu...</td>\n",
       "      <td>['fly', 'mortal', 'earth', 'be', 'measure', 'd...</td>\n",
       "    </tr>\n",
       "    <tr>\n",
       "      <th>210641</th>\n",
       "      <td>2012</td>\n",
       "      <td>edens-edge</td>\n",
       "      <td>Country</td>\n",
       "      <td>i heard from a friend of a friend of a friend ...</td>\n",
       "      <td>['hear', 'friend', 'friend', 'friend', 'finall...</td>\n",
       "    </tr>\n",
       "  </tbody>\n",
       "</table>\n",
       "<p>210642 rows × 5 columns</p>\n",
       "</div>"
      ],
      "text/plain": [
       "        year           artist    genre  \\\n",
       "0       2009  beyonce-knowles      Pop   \n",
       "1       2009  beyonce-knowles      Pop   \n",
       "2       2009  beyonce-knowles      Pop   \n",
       "3       2009  beyonce-knowles      Pop   \n",
       "4       2009  beyonce-knowles      Pop   \n",
       "...      ...              ...      ...   \n",
       "210637  2012       edens-edge  Country   \n",
       "210638  2012       edens-edge  Country   \n",
       "210639  2012       edens-edge  Country   \n",
       "210640  2012       edens-edge  Country   \n",
       "210641  2012       edens-edge  Country   \n",
       "\n",
       "                                                   lyrics  \\\n",
       "0       oh baby, how you doing? you know i'm gonna cut...   \n",
       "1       playin' everything so easy, it's like you seem...   \n",
       "2       if you search for tenderness it isn't hard to ...   \n",
       "3       oh oh oh i, oh oh oh i   if i wrote a book abo...   \n",
       "4       party the people, the people the party it's po...   \n",
       "...                                                   ...   \n",
       "210637  i gotta say boy, after only just a couple of d...   \n",
       "210638  i helped you find her diamond ring you made me...   \n",
       "210639  look at the couple in the corner booth looks a...   \n",
       "210640  when i fly off this mortal earth and i'm measu...   \n",
       "210641  i heard from a friend of a friend of a friend ...   \n",
       "\n",
       "                                               normalized  \n",
       "0       ['oh', 'baby', 'know', 'be', 'gon', 'na', 'cut...  \n",
       "1       ['playin', 'easy', 'like', 'sure', 'way', 'not...  \n",
       "2       ['search', 'tenderness', 'hard', 'find', 'love...  \n",
       "3       ['oh', 'oh', 'oh', 'oh', 'oh', 'oh', 'write', ...  \n",
       "4       ['party', 'people', 'people', 'party', 'pop', ...  \n",
       "...                                                   ...  \n",
       "210637  ['get', 'ta', 'boy', 'couple', 'date', 'hand',...  \n",
       "210638  ['help', 'find', 'diamond', 'ring', 'try', 'to...  \n",
       "210639  ['look', 'couple', 'corner', 'booth', 'look', ...  \n",
       "210640  ['fly', 'mortal', 'earth', 'be', 'measure', 'd...  \n",
       "210641  ['hear', 'friend', 'friend', 'friend', 'finall...  \n",
       "\n",
       "[210642 rows x 5 columns]"
      ]
     },
     "execution_count": 2,
     "metadata": {},
     "output_type": "execute_result"
    }
   ],
   "source": [
    "lyrics_1 = pd.read_csv(\"cleaned_lyrics_year.csv\")\n",
    "lyrics_1"
   ]
  },
  {
   "cell_type": "code",
   "execution_count": 3,
   "metadata": {},
   "outputs": [
    {
     "data": {
      "text/plain": [
       "{'Pop': 0,\n",
       " 'Hip-Hop': 1,\n",
       " 'Rock': 2,\n",
       " 'Metal': 3,\n",
       " 'Country': 4,\n",
       " 'Jazz': 5,\n",
       " 'Electronic': 6,\n",
       " 'Folk': 7,\n",
       " 'R&B': 8,\n",
       " 'Indie': 9}"
      ]
     },
     "execution_count": 3,
     "metadata": {},
     "output_type": "execute_result"
    }
   ],
   "source": [
    "genre_dict = {}\n",
    "for i, c in enumerate(pd.unique(lyrics_1['genre'])):\n",
    "    genre_dict[c] = i\n",
    "genre_dict"
   ]
  },
  {
   "cell_type": "code",
   "execution_count": 4,
   "metadata": {},
   "outputs": [],
   "source": [
    "lyrics_1['genre'] = lyrics_1['genre'].apply(lambda x:genre_dict[x])"
   ]
  },
  {
   "cell_type": "code",
   "execution_count": 5,
   "metadata": {},
   "outputs": [],
   "source": [
    "from sklearn.model_selection import train_test_split\n",
    "# train_test split\n",
    "lyrics_1_train, lyrics_1_test = train_test_split(lyrics_1, test_size=0.3, random_state=0)"
   ]
  },
  {
   "cell_type": "code",
   "execution_count": 6,
   "metadata": {},
   "outputs": [
    {
     "name": "stderr",
     "output_type": "stream",
     "text": [
      "Using TensorFlow backend.\n"
     ]
    }
   ],
   "source": [
    "# do deep learning models\n",
    "from keras.models import Sequential\n",
    "from keras.layers import Dense, LSTM, Embedding\n",
    "from transformers import BertTokenizer, BertConfig # pip install tranformers==2.4.1\n",
    "from transformers import AdamW, BertForSequenceClassification\n",
    "from keras.preprocessing.sequence import pad_sequences\n",
    "import torch"
   ]
  },
  {
   "cell_type": "code",
   "execution_count": 7,
   "metadata": {},
   "outputs": [
    {
     "data": {
      "text/plain": [
       "device(type='cpu')"
      ]
     },
     "execution_count": 7,
     "metadata": {},
     "output_type": "execute_result"
    }
   ],
   "source": [
    "gpu = torch.cuda.is_available()\n",
    "device = torch.device(\"cuda\" if torch.cuda.is_available() else \"cpu\")\n",
    "if gpu:\n",
    "    n_gpu = torch.cuda.device_count()\n",
    "    torch.cuda.get_device_name(0)\n",
    "device"
   ]
  },
  {
   "cell_type": "code",
   "execution_count": 8,
   "metadata": {},
   "outputs": [],
   "source": [
    "train_lyrics = [\"[CLS] \" + s + \" [SEP]\" for s in lyrics_1_train['lyrics']]\n",
    "train_labels = lyrics_1_train['genre'].values\n",
    "test_lyrics = [\"[CLS] \" + s + \" [SEP]\" for s in lyrics_1_test['lyrics']]\n",
    "test_labels = lyrics_1_test['genre'].values"
   ]
  },
  {
   "cell_type": "code",
   "execution_count": 9,
   "metadata": {},
   "outputs": [],
   "source": [
    "deep_tokenizer = BertTokenizer.from_pretrained('bert-base-uncased', do_lower_case=True)\n",
    "from multiprocessing import Pool\n",
    "p = Pool()\n",
    "train_tokenized = p.map(deep_tokenizer.tokenize, train_lyrics)\n",
    "test_tokenized = p.map(deep_tokenizer.tokenize, test_lyrics)"
   ]
  },
  {
   "cell_type": "code",
   "execution_count": 11,
   "metadata": {},
   "outputs": [],
   "source": [
    "train_ids = p.map(deep_tokenizer.convert_tokens_to_ids, train_tokenized)\n",
    "test_ids = p.map(deep_tokenizer.convert_tokens_to_ids, test_tokenized)"
   ]
  },
  {
   "cell_type": "code",
   "execution_count": 12,
   "metadata": {},
   "outputs": [],
   "source": [
    "MAX_LEN = 512\n",
    "train_ids = pad_sequences(train_ids, maxlen=MAX_LEN, dtype=\"long\", truncating=\"post\", padding=\"post\")\n",
    "test_ids = pad_sequences(test_ids, maxlen=MAX_LEN, dtype=\"long\", truncating=\"post\", padding=\"post\")"
   ]
  },
  {
   "cell_type": "code",
   "execution_count": 14,
   "metadata": {},
   "outputs": [],
   "source": [
    "embedding_dim = 32\n",
    "unit = 100\n",
    "no_labels = len(np.unique(train_labels))\n",
    "batch_size = 32"
   ]
  },
  {
   "cell_type": "code",
   "execution_count": 15,
   "metadata": {
    "scrolled": true
   },
   "outputs": [
    {
     "data": {
      "text/plain": [
       "10"
      ]
     },
     "execution_count": 15,
     "metadata": {},
     "output_type": "execute_result"
    }
   ],
   "source": [
    "no_labels"
   ]
  },
  {
   "cell_type": "code",
   "execution_count": 16,
   "metadata": {},
   "outputs": [],
   "source": [
    "# adjustment for imbalanced dataset\n",
    "train_groups = lyrics_1_train.groupby(['genre'])\n",
    "train_groups = dict(list(train_groups))"
   ]
  },
  {
   "cell_type": "code",
   "execution_count": 17,
   "metadata": {},
   "outputs": [
    {
     "data": {
      "text/plain": [
       "{0: 6.2238402768984,\n",
       " 1: 9.545478086359811,\n",
       " 2: 2.147430202583633,\n",
       " 3: 10.074405575293795,\n",
       " 4: 14.898353036273619,\n",
       " 5: 29.31974547623782,\n",
       " 6: 32.40637362637363,\n",
       " 7: 125.16893039049236,\n",
       " 8: 64.4726716222125,\n",
       " 9: 71.1970062771608}"
      ]
     },
     "execution_count": 17,
     "metadata": {},
     "output_type": "execute_result"
    }
   ],
   "source": [
    "class_weights = {k:len(train_lyrics)/len(v) for k,v in train_groups.items()}\n",
    "class_weights"
   ]
  },
  {
   "cell_type": "code",
   "execution_count": 18,
   "metadata": {},
   "outputs": [
    {
     "data": {
      "text/plain": [
       "array([  2.1474302 ,  32.90280525,  63.6581803 ,  94.41355534,\n",
       "       125.16893039])"
      ]
     },
     "execution_count": 18,
     "metadata": {},
     "output_type": "execute_result"
    }
   ],
   "source": [
    "bases = np.linspace(min(class_weights.values()),max(class_weights.values()),5)\n",
    "bases"
   ]
  },
  {
   "cell_type": "code",
   "execution_count": 19,
   "metadata": {
    "collapsed": true
   },
   "outputs": [
    {
     "data": {
      "text/plain": [
       "[{0: 8.371270479482034,\n",
       "  1: 11.692908288943444,\n",
       "  2: 4.294860405167266,\n",
       "  3: 12.221835777877429,\n",
       "  4: 17.04578323885725,\n",
       "  5: 31.46717567882145,\n",
       "  6: 34.553803828957264,\n",
       "  7: 127.316360593076,\n",
       "  8: 66.62010182479614,\n",
       "  9: 73.34443647974443},\n",
       " {0: 39.126645526459214,\n",
       "  1: 42.44828333592062,\n",
       "  2: 35.05023545214445,\n",
       "  3: 42.97721082485461,\n",
       "  4: 47.80115828583443,\n",
       "  5: 62.222550725798634,\n",
       "  6: 65.30917887593444,\n",
       "  7: 158.0717356400532,\n",
       "  8: 97.37547687177332,\n",
       "  9: 104.09981152672161},\n",
       " {0: 69.88202057343639,\n",
       "  1: 73.20365838289781,\n",
       "  2: 65.80561049912163,\n",
       "  3: 73.73258587183179,\n",
       "  4: 78.55653333281163,\n",
       "  5: 92.97792577277582,\n",
       "  6: 96.06455392291163,\n",
       "  7: 188.82711068703037,\n",
       "  8: 128.1308519187505,\n",
       "  9: 134.8551865736988},\n",
       " {0: 100.63739562041359,\n",
       "  1: 103.95903342987499,\n",
       "  2: 96.56098554609882,\n",
       "  3: 104.48796091880898,\n",
       "  4: 109.3119083797888,\n",
       "  5: 123.733300819753,\n",
       "  6: 126.81992896988882,\n",
       "  7: 219.58248573400755,\n",
       "  8: 158.8862269657277,\n",
       "  9: 165.61056162067598},\n",
       " {0: 131.39277066739078,\n",
       "  1: 134.71440847685219,\n",
       "  2: 127.316360593076,\n",
       "  3: 135.24333596578617,\n",
       "  4: 140.06728342676598,\n",
       "  5: 154.48867586673018,\n",
       "  6: 157.575304016866,\n",
       "  7: 250.33786078098473,\n",
       "  8: 189.64160201270488,\n",
       "  9: 196.36593666765316}]"
      ]
     },
     "execution_count": 19,
     "metadata": {},
     "output_type": "execute_result"
    }
   ],
   "source": [
    "class_weight_paras = []\n",
    "for b in bases:\n",
    "    candidate = {c:v+b for c,v in class_weights.items()}\n",
    "    class_weight_paras.append(candidate)\n",
    "class_weight_paras"
   ]
  },
  {
   "cell_type": "code",
   "execution_count": 20,
   "metadata": {},
   "outputs": [
    {
     "name": "stdout",
     "output_type": "stream",
     "text": [
      "Model: \"sequential_1\"\n",
      "_________________________________________________________________\n",
      "Layer (type)                 Output Shape              Param #   \n",
      "=================================================================\n",
      "embedding_1 (Embedding)      (None, 512, 32)           976704    \n",
      "_________________________________________________________________\n",
      "lstm_1 (LSTM)                (None, 100)               53200     \n",
      "_________________________________________________________________\n",
      "dense_1 (Dense)              (None, 10)                1010      \n",
      "=================================================================\n",
      "Total params: 1,030,914\n",
      "Trainable params: 1,030,914\n",
      "Non-trainable params: 0\n",
      "_________________________________________________________________\n"
     ]
    }
   ],
   "source": [
    "model_lstm_1 = Sequential()\n",
    "model_lstm_1.add(Embedding(deep_tokenizer.vocab_size, \n",
    "                           embedding_dim, input_length=MAX_LEN))\n",
    "model_lstm_1.add(LSTM(unit))\n",
    "model_lstm_1.add(Dense(no_labels, activation='softmax'))\n",
    "model_lstm_1.compile(loss='sparse_categorical_crossentropy', optimizer='adam', \n",
    "                     metrics=['accuracy'])\n",
    "model_lstm_1.summary()"
   ]
  },
  {
   "cell_type": "code",
   "execution_count": 22,
   "metadata": {},
   "outputs": [
    {
     "name": "stderr",
     "output_type": "stream",
     "text": [
      "/home/cytwill/.local/lib/python3.7/site-packages/tensorflow_core/python/framework/indexed_slices.py:433: UserWarning: Converting sparse IndexedSlices to a dense Tensor of unknown shape. This may consume a large amount of memory.\n",
      "  \"Converting sparse IndexedSlices to a dense Tensor of unknown shape. \"\n"
     ]
    },
    {
     "name": "stdout",
     "output_type": "stream",
     "text": [
      "Epoch 1/15\n",
      "147449/147449 [==============================] - 1221s 8ms/step - loss: 124.4061 - accuracy: 0.5236\n",
      "Epoch 2/15\n",
      "147449/147449 [==============================] - 1217s 8ms/step - loss: 108.6975 - accuracy: 0.5754\n",
      "Epoch 3/15\n",
      "147449/147449 [==============================] - 1199s 8ms/step - loss: 99.9284 - accuracy: 0.6022\n",
      "Epoch 4/15\n",
      "147449/147449 [==============================] - 1178s 8ms/step - loss: 94.2662 - accuracy: 0.6276\n",
      "Epoch 5/15\n",
      "147449/147449 [==============================] - 1132s 8ms/step - loss: 89.0452 - accuracy: 0.6491\n",
      "Epoch 6/15\n",
      "147449/147449 [==============================] - 1129s 8ms/step - loss: 83.9297 - accuracy: 0.6707\n",
      "Epoch 7/15\n",
      "147449/147449 [==============================] - 1129s 8ms/step - loss: 79.2727 - accuracy: 0.6897\n",
      "Epoch 8/15\n",
      "147449/147449 [==============================] - 1145s 8ms/step - loss: 74.8457 - accuracy: 0.7059\n",
      "Epoch 9/15\n",
      "147449/147449 [==============================] - 1127s 8ms/step - loss: 70.7415 - accuracy: 0.7200\n",
      "Epoch 10/15\n",
      "147449/147449 [==============================] - 1212s 8ms/step - loss: 66.8094 - accuracy: 0.7339\n",
      "Epoch 11/15\n",
      "147449/147449 [==============================] - 1231s 8ms/step - loss: 63.0883 - accuracy: 0.7477\n",
      "Epoch 12/15\n",
      "147449/147449 [==============================] - 1199s 8ms/step - loss: 59.5794 - accuracy: 0.7591\n",
      "Epoch 13/15\n",
      "147449/147449 [==============================] - 1201s 8ms/step - loss: 56.4758 - accuracy: 0.7708\n",
      "Epoch 14/15\n",
      "147449/147449 [==============================] - 1166s 8ms/step - loss: 54.1588 - accuracy: 0.7803\n",
      "Epoch 15/15\n",
      "147449/147449 [==============================] - 1204s 8ms/step - loss: 50.6433 - accuracy: 0.7932\n"
     ]
    }
   ],
   "source": [
    "history_lstm_1 = model_lstm_1.fit(train_ids, train_labels, \n",
    "                                  epochs=15,batch_size=batch_size,\n",
    "                                  class_weight=class_weight_paras[2],\n",
    "                                  use_multiprocessing=True,\n",
    "                                  workers=32)"
   ]
  },
  {
   "cell_type": "code",
   "execution_count": 23,
   "metadata": {},
   "outputs": [
    {
     "data": {
      "text/plain": [
       "0.3931704979773331"
      ]
     },
     "execution_count": 23,
     "metadata": {},
     "output_type": "execute_result"
    }
   ],
   "source": [
    "predict_1 = model_lstm_1.predict_classes(test_ids, batch_size=32)\n",
    "from sklearn.metrics import matthews_corrcoef\n",
    "matthews_corrcoef(test_labels, predict_1)"
   ]
  },
  {
   "cell_type": "code",
   "execution_count": 24,
   "metadata": {},
   "outputs": [
    {
     "data": {
      "text/plain": [
       "0.5759656924026395"
      ]
     },
     "execution_count": 24,
     "metadata": {},
     "output_type": "execute_result"
    }
   ],
   "source": [
    "from sklearn.metrics import accuracy_score,roc_auc_score\n",
    "accuracy_score(test_labels, predict_1)"
   ]
  },
  {
   "cell_type": "code",
   "execution_count": 25,
   "metadata": {},
   "outputs": [
    {
     "data": {
      "text/plain": [
       "0.3445176586623711"
      ]
     },
     "execution_count": 25,
     "metadata": {},
     "output_type": "execute_result"
    }
   ],
   "source": [
    "from sklearn import metrics\n",
    "metrics.balanced_accuracy_score(test_labels, predict_1)"
   ]
  },
  {
   "cell_type": "code",
   "execution_count": 26,
   "metadata": {},
   "outputs": [
    {
     "data": {
      "text/plain": [
       "0.7625341870411606"
      ]
     },
     "execution_count": 26,
     "metadata": {},
     "output_type": "execute_result"
    }
   ],
   "source": [
    "from sklearn.metrics import roc_auc_score\n",
    "roc_auc_score(test_labels, model_lstm_1.predict(test_ids, batch_size=32),multi_class='ovo')"
   ]
  },
  {
   "cell_type": "code",
   "execution_count": 27,
   "metadata": {},
   "outputs": [
    {
     "name": "stdout",
     "output_type": "stream",
     "text": [
      "Model: \"sequential_2\"\n",
      "_________________________________________________________________\n",
      "Layer (type)                 Output Shape              Param #   \n",
      "=================================================================\n",
      "embedding_2 (Embedding)      (None, 512, 32)           976704    \n",
      "_________________________________________________________________\n",
      "lstm_2 (LSTM)                (None, 512, 100)          53200     \n",
      "_________________________________________________________________\n",
      "lstm_3 (LSTM)                (None, 100)               80400     \n",
      "_________________________________________________________________\n",
      "dense_2 (Dense)              (None, 10)                1010      \n",
      "=================================================================\n",
      "Total params: 1,111,314\n",
      "Trainable params: 1,111,314\n",
      "Non-trainable params: 0\n",
      "_________________________________________________________________\n"
     ]
    }
   ],
   "source": [
    "model_lstm_2 = Sequential()\n",
    "model_lstm_2.add(Embedding(deep_tokenizer.vocab_size, \n",
    "                           embedding_dim, input_length=MAX_LEN))\n",
    "model_lstm_2.add(LSTM(100,return_sequences=True))\n",
    "model_lstm_2.add(LSTM(100))\n",
    "model_lstm_2.add(Dense(no_labels, activation='softmax'))\n",
    "model_lstm_2.compile(loss='sparse_categorical_crossentropy', optimizer='adam', metrics=['accuracy'])\n",
    "model_lstm_2.summary()"
   ]
  },
  {
   "cell_type": "code",
   "execution_count": 28,
   "metadata": {},
   "outputs": [
    {
     "name": "stderr",
     "output_type": "stream",
     "text": [
      "/home/cytwill/.local/lib/python3.7/site-packages/tensorflow_core/python/framework/indexed_slices.py:433: UserWarning: Converting sparse IndexedSlices to a dense Tensor of unknown shape. This may consume a large amount of memory.\n",
      "  \"Converting sparse IndexedSlices to a dense Tensor of unknown shape. \"\n"
     ]
    },
    {
     "name": "stdout",
     "output_type": "stream",
     "text": [
      "Epoch 1/10\n",
      "147449/147449 [==============================] - 2246s 15ms/step - loss: 1.5032 - accuracy: 0.5272\n",
      "Epoch 2/10\n",
      "147449/147449 [==============================] - 2422s 16ms/step - loss: 1.3377 - accuracy: 0.5643\n",
      "Epoch 3/10\n",
      "147449/147449 [==============================] - 2430s 16ms/step - loss: 1.2575 - accuracy: 0.5846\n",
      "Epoch 4/10\n",
      "147449/147449 [==============================] - 2369s 16ms/step - loss: 1.2037 - accuracy: 0.6029\n",
      "Epoch 5/10\n",
      "147449/147449 [==============================] - 2373s 16ms/step - loss: 1.1353 - accuracy: 0.6280\n",
      "Epoch 6/10\n",
      "147449/147449 [==============================] - 2299s 16ms/step - loss: 1.0711 - accuracy: 0.6514\n",
      "Epoch 7/10\n",
      "147449/147449 [==============================] - 2222s 15ms/step - loss: 1.0124 - accuracy: 0.6729\n",
      "Epoch 8/10\n",
      "147449/147449 [==============================] - 2243s 15ms/step - loss: 0.9561 - accuracy: 0.6925\n",
      "Epoch 9/10\n",
      "147449/147449 [==============================] - 2271s 15ms/step - loss: 0.9011 - accuracy: 0.7116\n",
      "Epoch 10/10\n",
      "147449/147449 [==============================] - 2252s 15ms/step - loss: 0.8499 - accuracy: 0.7280\n"
     ]
    }
   ],
   "source": [
    "history_lstm_2 = model_lstm_2.fit(train_ids, train_labels, \n",
    "                                  epochs=10,batch_size=batch_size,\n",
    "                                  use_multiprocessing=True,\n",
    "                                  workers=32)"
   ]
  },
  {
   "cell_type": "code",
   "execution_count": 29,
   "metadata": {},
   "outputs": [
    {
     "data": {
      "text/plain": [
       "0.4214566149349209"
      ]
     },
     "execution_count": 29,
     "metadata": {},
     "output_type": "execute_result"
    }
   ],
   "source": [
    "predict_2 = model_lstm_2.predict_classes(test_ids, batch_size=32)\n",
    "from sklearn.metrics import matthews_corrcoef\n",
    "matthews_corrcoef(test_labels, predict_2)"
   ]
  },
  {
   "cell_type": "code",
   "execution_count": 30,
   "metadata": {},
   "outputs": [
    {
     "data": {
      "text/plain": [
       "0.5977402560410172"
      ]
     },
     "execution_count": 30,
     "metadata": {},
     "output_type": "execute_result"
    }
   ],
   "source": [
    "from sklearn.metrics import accuracy_score,roc_auc_score\n",
    "accuracy_score(test_labels, predict_2)"
   ]
  },
  {
   "cell_type": "code",
   "execution_count": 31,
   "metadata": {},
   "outputs": [
    {
     "data": {
      "text/plain": [
       "0.7781341769462767"
      ]
     },
     "execution_count": 31,
     "metadata": {},
     "output_type": "execute_result"
    }
   ],
   "source": [
    "from sklearn.metrics import roc_auc_score\n",
    "roc_auc_score(test_labels, model_lstm_2.predict(test_ids, batch_size=32),multi_class='ovo')"
   ]
  },
  {
   "cell_type": "code",
   "execution_count": 32,
   "metadata": {},
   "outputs": [],
   "source": [
    "# save model\n",
    "model_lstm_2.save('lstm_model.h5')"
   ]
  },
  {
   "cell_type": "code",
   "execution_count": 35,
   "metadata": {},
   "outputs": [
    {
     "name": "stdout",
     "output_type": "stream",
     "text": [
      "Model: \"sequential_4\"\n",
      "_________________________________________________________________\n",
      "Layer (type)                 Output Shape              Param #   \n",
      "=================================================================\n",
      "embedding_3 (Embedding)      (None, 512, 64)           1953408   \n",
      "_________________________________________________________________\n",
      "lstm_4 (LSTM)                (None, 512, 100)          66000     \n",
      "_________________________________________________________________\n",
      "lstm_5 (LSTM)                (None, 100)               80400     \n",
      "_________________________________________________________________\n",
      "dense_3 (Dense)              (None, 10)                1010      \n",
      "=================================================================\n",
      "Total params: 2,100,818\n",
      "Trainable params: 2,100,818\n",
      "Non-trainable params: 0\n",
      "_________________________________________________________________\n"
     ]
    }
   ],
   "source": [
    "model_lstm_3 = Sequential()\n",
    "model_lstm_3.add(Embedding(deep_tokenizer.vocab_size, \n",
    "                           output_dim= 64, input_length=MAX_LEN))\n",
    "model_lstm_3.add(LSTM(100,return_sequences=True))\n",
    "model_lstm_3.add(LSTM(100))\n",
    "model_lstm_3.add(Dense(no_labels, activation='softmax'))\n",
    "model_lstm_3.compile(loss='sparse_categorical_crossentropy', optimizer='adam', metrics=['accuracy'])\n",
    "model_lstm_3.summary()"
   ]
  },
  {
   "cell_type": "code",
   "execution_count": 36,
   "metadata": {},
   "outputs": [
    {
     "name": "stderr",
     "output_type": "stream",
     "text": [
      "/home/cytwill/.local/lib/python3.7/site-packages/tensorflow_core/python/framework/indexed_slices.py:433: UserWarning: Converting sparse IndexedSlices to a dense Tensor of unknown shape. This may consume a large amount of memory.\n",
      "  \"Converting sparse IndexedSlices to a dense Tensor of unknown shape. \"\n"
     ]
    },
    {
     "name": "stdout",
     "output_type": "stream",
     "text": [
      "Epoch 1/10\n",
      "147449/147449 [==============================] - 2425s 16ms/step - loss: 1.4584 - accuracy: 0.5411\n",
      "Epoch 2/10\n",
      "147449/147449 [==============================] - 2344s 16ms/step - loss: 1.2426 - accuracy: 0.5936\n",
      "Epoch 3/10\n",
      "147449/147449 [==============================] - 2344s 16ms/step - loss: 1.1350 - accuracy: 0.6305\n",
      "Epoch 4/10\n",
      "147449/147449 [==============================] - 2347s 16ms/step - loss: 1.0620 - accuracy: 0.6551\n",
      "Epoch 5/10\n",
      "147449/147449 [==============================] - 2348s 16ms/step - loss: 0.9920 - accuracy: 0.6795\n",
      "Epoch 6/10\n",
      "147449/147449 [==============================] - 2347s 16ms/step - loss: 0.9228 - accuracy: 0.7042\n",
      "Epoch 7/10\n",
      "147449/147449 [==============================] - 2341s 16ms/step - loss: 0.8544 - accuracy: 0.7279\n",
      "Epoch 8/10\n",
      "147449/147449 [==============================] - 2352s 16ms/step - loss: 0.7869 - accuracy: 0.7501\n",
      "Epoch 9/10\n",
      "147449/147449 [==============================] - 2353s 16ms/step - loss: 0.7239 - accuracy: 0.7719\n",
      "Epoch 10/10\n",
      "147449/147449 [==============================] - 2354s 16ms/step - loss: 0.6668 - accuracy: 0.7909\n"
     ]
    }
   ],
   "source": [
    "history_lstm_3 = model_lstm_3.fit(train_ids, train_labels, \n",
    "                                  epochs=10,batch_size=batch_size,\n",
    "                                  use_multiprocessing=True,\n",
    "                                  workers=32)"
   ]
  },
  {
   "cell_type": "code",
   "execution_count": null,
   "metadata": {},
   "outputs": [],
   "source": [
    "predict_3 = model_lstm_3.predict_classes(test_ids, batch_size=32)\n",
    "from sklearn.metrics import matthews_corrcoef\n",
    "matthews_corrcoef(test_labels, predict_3)"
   ]
  },
  {
   "cell_type": "code",
   "execution_count": null,
   "metadata": {},
   "outputs": [],
   "source": [
    "accuracy_score(test_labels, predict_3)"
   ]
  },
  {
   "cell_type": "code",
   "execution_count": null,
   "metadata": {},
   "outputs": [],
   "source": [
    "roc_auc_score(test_labels, model_lstm_3.predict(test_ids, batch_size=32),multi_class='ovo')"
   ]
  },
  {
   "cell_type": "markdown",
   "metadata": {},
   "source": [
    "## Bert Preprocessing"
   ]
  },
  {
   "cell_type": "code",
   "execution_count": null,
   "metadata": {},
   "outputs": [],
   "source": [
    "%%writefile mask.py\n",
    "def mask(x):\n",
    "    return [float(i>0) for i in x]"
   ]
  },
  {
   "cell_type": "code",
   "execution_count": null,
   "metadata": {},
   "outputs": [],
   "source": [
    "from mask import mask \n",
    "train_masks = p.map(mask,train_ids) \n",
    "test_masks = p.map(mask,test_ids)"
   ]
  },
  {
   "cell_type": "code",
   "execution_count": null,
   "metadata": {},
   "outputs": [],
   "source": [
    "final_train_inputs, validation_inputs, final_train_labels, validation_labels = train_test_split(\n",
    "    train_ids, train_labels, random_state=2020, test_size=0.1)\n",
    "final_train_masks, validation_masks = train_test_split(train_masks,random_state=2020, test_size=0.1)"
   ]
  },
  {
   "cell_type": "code",
   "execution_count": 73,
   "metadata": {},
   "outputs": [],
   "source": [
    "import torch # pip install torch\n",
    "from torch.utils.data import TensorDataset, DataLoader, RandomSampler, SequentialSampler\n",
    "from sklearn.model_selection import train_test_split\n",
    "from transformers import BertTokenizer, BertConfig # pip install tranformers==2.4.1\n",
    "from transformers import AdamW, BertForSequenceClassification\n",
    "from tqdm import tqdm, trange"
   ]
  },
  {
   "cell_type": "code",
   "execution_count": 75,
   "metadata": {
    "collapsed": true
   },
   "outputs": [
    {
     "name": "stderr",
     "output_type": "stream",
     "text": [
      "/home/cytwill/.local/lib/python3.7/site-packages/ipykernel_launcher.py:1: UserWarning: To copy construct from a tensor, it is recommended to use sourceTensor.clone().detach() or sourceTensor.clone().detach().requires_grad_(True), rather than torch.tensor(sourceTensor).\n",
      "  \"\"\"Entry point for launching an IPython kernel.\n",
      "/home/cytwill/.local/lib/python3.7/site-packages/ipykernel_launcher.py:2: UserWarning: To copy construct from a tensor, it is recommended to use sourceTensor.clone().detach() or sourceTensor.clone().detach().requires_grad_(True), rather than torch.tensor(sourceTensor).\n",
      "  \n",
      "/home/cytwill/.local/lib/python3.7/site-packages/ipykernel_launcher.py:3: UserWarning: To copy construct from a tensor, it is recommended to use sourceTensor.clone().detach() or sourceTensor.clone().detach().requires_grad_(True), rather than torch.tensor(sourceTensor).\n",
      "  This is separate from the ipykernel package so we can avoid doing imports until\n",
      "/home/cytwill/.local/lib/python3.7/site-packages/ipykernel_launcher.py:4: UserWarning: To copy construct from a tensor, it is recommended to use sourceTensor.clone().detach() or sourceTensor.clone().detach().requires_grad_(True), rather than torch.tensor(sourceTensor).\n",
      "  after removing the cwd from sys.path.\n",
      "/home/cytwill/.local/lib/python3.7/site-packages/ipykernel_launcher.py:5: UserWarning: To copy construct from a tensor, it is recommended to use sourceTensor.clone().detach() or sourceTensor.clone().detach().requires_grad_(True), rather than torch.tensor(sourceTensor).\n",
      "  \"\"\"\n",
      "/home/cytwill/.local/lib/python3.7/site-packages/ipykernel_launcher.py:6: UserWarning: To copy construct from a tensor, it is recommended to use sourceTensor.clone().detach() or sourceTensor.clone().detach().requires_grad_(True), rather than torch.tensor(sourceTensor).\n",
      "  \n"
     ]
    }
   ],
   "source": [
    "final_train_inputs = torch.tensor(final_train_inputs,dtype=torch.long)\n",
    "validation_inputs = torch.tensor(validation_inputs,dtype=torch.long)\n",
    "final_train_labels = torch.tensor(final_train_labels,dtype=torch.long)\n",
    "validation_labels = torch.tensor(validation_labels,dtype=torch.long)\n",
    "final_train_masks = torch.tensor(final_train_masks,dtype=torch.long)\n",
    "validation_masks = torch.tensor(validation_masks,dtype=torch.long)"
   ]
  },
  {
   "cell_type": "code",
   "execution_count": 76,
   "metadata": {},
   "outputs": [],
   "source": [
    "# Select a batch size for training. For fine-tuning BERT on a specific task, the authors recommend a batch size of 16 or 32\n",
    "batch_size = 32\n",
    "\n",
    "# Create an iterator of our data with torch DataLoader. This helps save on memory during training because, unlike a for loop, \n",
    "# with an iterator the entire dataset does not need to be loaded into memory\n",
    "\n",
    "final_train_data = TensorDataset(final_train_inputs, final_train_masks, final_train_labels)\n",
    "final_train_sampler = RandomSampler(final_train_data)\n",
    "final_train_dataloader = DataLoader(final_train_data, sampler=final_train_sampler, batch_size=batch_size)\n",
    "\n",
    "validation_data = TensorDataset(validation_inputs, validation_masks, validation_labels)\n",
    "validation_sampler = SequentialSampler(validation_data)\n",
    "validation_dataloader = DataLoader(validation_data, sampler=validation_sampler, batch_size=batch_size)"
   ]
  },
  {
   "cell_type": "code",
   "execution_count": 77,
   "metadata": {},
   "outputs": [
    {
     "data": {
      "application/vnd.jupyter.widget-view+json": {
       "model_id": "216e64f9576f47f1a1bd04775656a88b",
       "version_major": 2,
       "version_minor": 0
      },
      "text/plain": [
       "HBox(children=(FloatProgress(value=0.0, description='Downloading', max=361.0, style=ProgressStyle(description_…"
      ]
     },
     "metadata": {},
     "output_type": "display_data"
    },
    {
     "name": "stdout",
     "output_type": "stream",
     "text": [
      "\n"
     ]
    },
    {
     "data": {
      "application/vnd.jupyter.widget-view+json": {
       "model_id": "b402b82aa10c413888cbd889715ed4f6",
       "version_major": 2,
       "version_minor": 0
      },
      "text/plain": [
       "HBox(children=(FloatProgress(value=0.0, description='Downloading', max=440473133.0, style=ProgressStyle(descri…"
      ]
     },
     "metadata": {},
     "output_type": "display_data"
    },
    {
     "name": "stdout",
     "output_type": "stream",
     "text": [
      "\n"
     ]
    }
   ],
   "source": [
    "model = BertForSequenceClassification.from_pretrained(\"bert-base-uncased\", num_labels=10)"
   ]
  },
  {
   "cell_type": "code",
   "execution_count": 78,
   "metadata": {},
   "outputs": [],
   "source": [
    "# Function to calculate the accuracy of our predictions vs labels\n",
    "def flat_accuracy(preds, labels):\n",
    "    pred_flat = np.argmax(preds, axis=1).flatten()\n",
    "    labels_flat = labels.flatten()\n",
    "    return np.sum(pred_flat == labels_flat) / len(labels_flat)"
   ]
  },
  {
   "cell_type": "code",
   "execution_count": 79,
   "metadata": {},
   "outputs": [],
   "source": [
    "import time\n",
    "import datetime\n",
    "\n",
    "def format_time(elapsed):\n",
    "    '''\n",
    "    Takes a time in seconds and returns a string hh:mm:ss\n",
    "    '''\n",
    "    # Round to the nearest second.\n",
    "    elapsed_rounded = int(round((elapsed)))\n",
    "    \n",
    "    # Format as hh:mm:ss\n",
    "    return str(datetime.timedelta(seconds=elapsed_rounded))"
   ]
  },
  {
   "cell_type": "code",
   "execution_count": 80,
   "metadata": {},
   "outputs": [],
   "source": [
    "from transformers import get_linear_schedule_with_warmup\n",
    "# This variable contains all of the hyperparemeter information our training loop needs\n",
    "optimizer = AdamW(model.parameters(),\n",
    "                  lr = 5e-5, # args.learning_rate - default is 5e-5, our notebook had 2e-5\n",
    "                  eps = 1e-8 # args.adam_epsilon  - default is 1e-8.\n",
    "                )\n",
    "\n",
    "# Number of training epochs (authors recommend between 2 and 4)\n",
    "epochs = 4\n",
    "\n",
    "# Total number of training steps is number of batches * number of epochs.\n",
    "total_steps = len(final_train_dataloader) * epochs\n",
    "\n",
    "# Create the learning rate scheduler.\n",
    "scheduler = get_linear_schedule_with_warmup(optimizer, \n",
    "                       num_warmup_steps = 0, # Default value in run_glue.py\n",
    "                       num_training_steps = total_steps)"
   ]
  },
  {
   "cell_type": "markdown",
   "metadata": {},
   "source": [
    "## Bret Training"
   ]
  },
  {
   "cell_type": "code",
   "execution_count": null,
   "metadata": {},
   "outputs": [
    {
     "name": "stdout",
     "output_type": "stream",
     "text": [
      "\n",
      "======== Epoch 1 / 4 ========\n",
      "Training...\n",
      "  Batch    40  of  4,675.    Elapsed: 1:59:19.\n",
      "  Batch    80  of  4,675.    Elapsed: 3:56:54.\n",
      "  Batch   120  of  4,675.    Elapsed: 5:52:28.\n",
      "  Batch   160  of  4,675.    Elapsed: 8:17:31.\n",
      "  Batch   200  of  4,675.    Elapsed: 8:46:03.\n",
      "  Batch   240  of  4,675.    Elapsed: 9:11:58.\n",
      "  Batch   280  of  4,675.    Elapsed: 9:39:15.\n",
      "  Batch   320  of  4,675.    Elapsed: 10:07:51.\n",
      "  Batch   360  of  4,675.    Elapsed: 10:36:43.\n",
      "  Batch   400  of  4,675.    Elapsed: 11:03:40.\n",
      "  Batch   440  of  4,675.    Elapsed: 11:32:11.\n",
      "  Batch   480  of  4,675.    Elapsed: 11:59:16.\n",
      "  Batch   520  of  4,675.    Elapsed: 12:27:46.\n",
      "  Batch   560  of  4,675.    Elapsed: 12:56:28.\n",
      "  Batch   600  of  4,675.    Elapsed: 13:24:35.\n",
      "  Batch   640  of  4,675.    Elapsed: 13:51:51.\n",
      "  Batch   680  of  4,675.    Elapsed: 14:19:24.\n",
      "  Batch   720  of  4,675.    Elapsed: 14:46:35.\n",
      "  Batch   760  of  4,675.    Elapsed: 15:12:56.\n",
      "  Batch   800  of  4,675.    Elapsed: 15:39:09.\n",
      "  Batch   840  of  4,675.    Elapsed: 16:04:30.\n",
      "  Batch   880  of  4,675.    Elapsed: 16:30:37.\n"
     ]
    }
   ],
   "source": [
    "import random\n",
    "\n",
    "# This training code is based on the `run_glue.py` script here:\n",
    "# https://github.com/huggingface/transformers/blob/5bfcd0485ece086ebcbed2d008813037968a9e58/examples/run_glue.py#L128\n",
    "\n",
    "# Set the seed value all over the place to make this reproducible.\n",
    "seed_val = 42\n",
    "\n",
    "random.seed(seed_val)\n",
    "np.random.seed(seed_val)\n",
    "torch.manual_seed(seed_val)\n",
    "torch.cuda.manual_seed_all(seed_val)\n",
    "\n",
    "# Store the average loss after each epoch so we can plot them.\n",
    "loss_values = []\n",
    "\n",
    "# For each epoch...\n",
    "for epoch_i in range(0, epochs):\n",
    "    \n",
    "    # ========================================\n",
    "    #               Training\n",
    "    # ========================================\n",
    "    \n",
    "    # Perform one full pass over the training set.\n",
    "\n",
    "    print(\"\")\n",
    "    print('======== Epoch {:} / {:} ========'.format(epoch_i + 1, epochs))\n",
    "    print('Training...')\n",
    "\n",
    "    # Measure how long the training epoch takes.\n",
    "    t0 = time.time()\n",
    "\n",
    "    # Reset the total loss for this epoch.\n",
    "    total_loss = 0\n",
    "\n",
    "    # Put the model into training mode. Don't be mislead--the call to \n",
    "    # `train` just changes the *mode*, it doesn't *perform* the training.\n",
    "    # `dropout` and `batchnorm` layers behave differently during training\n",
    "    # vs. test (source: https://stackoverflow.com/questions/51433378/what-does-model-train-do-in-pytorch)\n",
    "    model.train()\n",
    "\n",
    "    # For each batch of training data...\n",
    "    for step, batch in enumerate(final_train_dataloader):\n",
    "\n",
    "        # Progress update every 40 batches.\n",
    "        if step % 40 == 0 and not step == 0:\n",
    "            # Calculate elapsed time in minutes.\n",
    "            elapsed = format_time(time.time() - t0)\n",
    "            \n",
    "            # Report progress.\n",
    "            print('  Batch {:>5,}  of  {:>5,}.    Elapsed: {:}.'.format(step, len(final_train_dataloader), elapsed))\n",
    "\n",
    "        # Unpack this training batch from our dataloader. \n",
    "        #\n",
    "        # As we unpack the batch, we'll also copy each tensor to the GPU using the \n",
    "        # `to` method.\n",
    "        #\n",
    "        # `batch` contains three pytorch tensors:\n",
    "        #   [0]: input ids \n",
    "        #   [1]: attention masks\n",
    "        #   [2]: labels \n",
    "        b_input_ids = batch[0].to(device)\n",
    "        b_input_mask = batch[1].to(device)\n",
    "        b_labels = batch[2].to(device)\n",
    "        \n",
    "        # Always clear any previously calculated gradients before performing a\n",
    "        # backward pass. PyTorch doesn't do this automatically because \n",
    "        # accumulating the gradients is \"convenient while training RNNs\". \n",
    "        # (source: https://stackoverflow.com/questions/48001598/why-do-we-need-to-call-zero-grad-in-pytorch)\n",
    "        model.zero_grad()        \n",
    "\n",
    "        # Perform a forward pass (evaluate the model on this training batch).\n",
    "        # This will return the loss (rather than the model output) because we\n",
    "        # have provided the `labels`.\n",
    "        # The documentation for this `model` function is here: \n",
    "        # https://huggingface.co/transformers/v2.2.0/model_doc/bert.html#transformers.BertForSequenceClassification\n",
    "        outputs = model(b_input_ids, \n",
    "                    token_type_ids=None, \n",
    "                    attention_mask=b_input_mask, \n",
    "                    labels=b_labels)\n",
    "        \n",
    "        # The call to `model` always returns a tuple, so we need to pull the \n",
    "        # loss value out of the tuple.\n",
    "        loss = outputs[0]\n",
    "\n",
    "        # Accumulate the training loss over all of the batches so that we can\n",
    "        # calculate the average loss at the end. `loss` is a Tensor containing a\n",
    "        # single value; the `.item()` function just returns the Python value \n",
    "        # from the tensor.\n",
    "        total_loss += loss.item()\n",
    "\n",
    "        # Perform a backward pass to calculate the gradients.\n",
    "        loss.backward()\n",
    "\n",
    "        # Clip the norm of the gradients to 1.0.\n",
    "        # This is to help prevent the \"exploding gradients\" problem.\n",
    "        torch.nn.utils.clip_grad_norm_(model.parameters(), 1.0)\n",
    "\n",
    "        # Update parameters and take a step using the computed gradient.\n",
    "        # The optimizer dictates the \"update rule\"--how the parameters are\n",
    "        # modified based on their gradients, the learning rate, etc.\n",
    "        optimizer.step()\n",
    "\n",
    "        # Update the learning rate.\n",
    "        scheduler.step()\n",
    "\n",
    "    # Calculate the average loss over the training data.\n",
    "    avg_train_loss = total_loss / len(final_train_dataloader)            \n",
    "    \n",
    "    # Store the loss value for plotting the learning curve.\n",
    "    loss_values.append(avg_train_loss)\n",
    "\n",
    "    print(\"\")\n",
    "    print(\"  Average training loss: {0:.2f}\".format(avg_train_loss))\n",
    "    print(\"  Training epcoh took: {:}\".format(format_time(time.time() - t0)))\n",
    "        \n",
    "    # ========================================\n",
    "    #               Validation\n",
    "    # ========================================\n",
    "    # After the completion of each training epoch, measure our performance on\n",
    "    # our validation set.\n",
    "\n",
    "    print(\"\")\n",
    "    print(\"Running Validation...\")\n",
    "\n",
    "    t0 = time.time()\n",
    "\n",
    "    # Put the model in evaluation mode--the dropout layers behave differently\n",
    "    # during evaluation.\n",
    "    model.eval()\n",
    "\n",
    "    # Tracking variables \n",
    "    eval_loss, eval_accuracy = 0, 0\n",
    "    nb_eval_steps, nb_eval_examples = 0, 0\n",
    "\n",
    "    # Evaluate data for one epoch\n",
    "    for batch in validation_dataloader:\n",
    "        \n",
    "        # Add batch to GPU\n",
    "        batch = tuple(t.to(device) for t in batch)\n",
    "        \n",
    "        # Unpack the inputs from our dataloader\n",
    "        b_input_ids, b_input_mask, b_labels = batch\n",
    "        \n",
    "        # Telling the model not to compute or store gradients, saving memory and\n",
    "        # speeding up validation\n",
    "        with torch.no_grad():        \n",
    "\n",
    "            # Forward pass, calculate logit predictions.\n",
    "            # This will return the logits rather than the loss because we have\n",
    "            # not provided labels.\n",
    "            # token_type_ids is the same as the \"segment ids\", which \n",
    "            # differentiates sentence 1 and 2 in 2-sentence tasks.\n",
    "            # The documentation for this `model` function is here: \n",
    "            # https://huggingface.co/transformers/v2.2.0/model_doc/bert.html#transformers.BertForSequenceClassification\n",
    "            outputs = model(b_input_ids, \n",
    "                            token_type_ids=None, \n",
    "                            attention_mask=b_input_mask)\n",
    "        \n",
    "        # Get the \"logits\" output by the model. The \"logits\" are the output\n",
    "        # values prior to applying an activation function like the softmax.\n",
    "        logits = outputs[0]\n",
    "\n",
    "        # Move logits and labels to CPU\n",
    "        logits = logits.detach().cpu().numpy()\n",
    "        label_ids = b_labels.to('cpu').numpy()\n",
    "        \n",
    "        # Calculate the accuracy for this batch of test sentences.\n",
    "        tmp_eval_accuracy = flat_accuracy(logits, label_ids)\n",
    "        \n",
    "        # Accumulate the total accuracy.\n",
    "        eval_accuracy += tmp_eval_accuracy\n",
    "\n",
    "        # Track the number of batches\n",
    "        nb_eval_steps += 1\n",
    "\n",
    "    # Report the final accuracy for this validation run.\n",
    "    print(\"  Accuracy: {0:.2f}\".format(eval_accuracy/nb_eval_steps))\n",
    "    print(\"  Validation took: {:}\".format(format_time(time.time() - t0)))\n",
    "\n",
    "print(\"\")\n",
    "print(\"Training complete!\")"
   ]
  },
  {
   "cell_type": "code",
   "execution_count": null,
   "metadata": {},
   "outputs": [],
   "source": []
  }
 ],
 "metadata": {
  "kernelspec": {
   "display_name": "Python 3",
   "language": "python",
   "name": "python3"
  },
  "language_info": {
   "codemirror_mode": {
    "name": "ipython",
    "version": 3
   },
   "file_extension": ".py",
   "mimetype": "text/x-python",
   "name": "python",
   "nbconvert_exporter": "python",
   "pygments_lexer": "ipython3",
   "version": "3.7.4"
  }
 },
 "nbformat": 4,
 "nbformat_minor": 4
}
